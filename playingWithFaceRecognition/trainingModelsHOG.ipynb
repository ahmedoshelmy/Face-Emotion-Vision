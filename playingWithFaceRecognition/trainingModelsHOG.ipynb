{
 "cells": [
  {
   "cell_type": "code",
   "execution_count": 10,
   "metadata": {},
   "outputs": [],
   "source": [
    "from sklearn.model_selection import train_test_split\n",
    "import tensorflow as tf\n",
    "\n"
   ]
  },
  {
   "cell_type": "code",
   "execution_count": 11,
   "metadata": {},
   "outputs": [],
   "source": [
    "import sys\n",
    "sys.path.insert(1, '../Pre Processing Stage/')\n",
    "sys.path.insert(1, '../Processing Stage/HoG')\n",
    "\n",
    "\n",
    "from commonfunctions import *\n",
    "from main import *\n",
    "from hog import *"
   ]
  },
  {
   "cell_type": "code",
   "execution_count": 12,
   "metadata": {},
   "outputs": [],
   "source": [
    "final_hog=np.load('./numpyArrays/final_hog.npy' )\n",
    "targets_hog=np.load('./numpyArrays/targets_hog.npy')\n",
    "\n"
   ]
  },
  {
   "cell_type": "code",
   "execution_count": 13,
   "metadata": {},
   "outputs": [],
   "source": [
    "from sklearn.ensemble import RandomForestClassifier\n",
    "from sklearn.neighbors import KNeighborsClassifier\n",
    "from sklearn.svm import SVC\n",
    "from sklearn.ensemble import VotingClassifier\n",
    "from tensorflow import keras"
   ]
  },
  {
   "cell_type": "code",
   "execution_count": 14,
   "metadata": {},
   "outputs": [],
   "source": [
    "classifiers = {\n",
    "    'SVM': SVC(random_state=40, C=1),\n",
    "    'KNN': KNeighborsClassifier(n_neighbors=7),\n",
    "    'rnd': RandomForestClassifier(random_state=40),\n",
    "    'voting_clf_soft' : VotingClassifier(\n",
    "    estimators=[\n",
    "        ('KNN', KNeighborsClassifier(n_neighbors=7)),\n",
    "        ('rf', RandomForestClassifier(random_state=42)),\n",
    "        ('svc', SVC(random_state=42, probability=True, C=1))\n",
    "    ],\n",
    "    voting='soft'), \n",
    "    'voting_clf_hard': VotingClassifier(\n",
    "    estimators=[\n",
    "            ('KNN', KNeighborsClassifier(n_neighbors=7)),\n",
    "            ('rf', RandomForestClassifier(random_state=42)),\n",
    "            ('svc', SVC(random_state=42,C=1))\n",
    "        ],\n",
    "    voting='hard'),\n",
    "    \n",
    "}"
   ]
  },
  {
   "cell_type": "code",
   "execution_count": 15,
   "metadata": {},
   "outputs": [],
   "source": [
    "from sklearn.metrics import confusion_matrix\n",
    "import copy\n",
    "\n",
    "\n",
    "def train_model(x,y,testSize):\n",
    "    models=[]\n",
    "\n",
    "    X_train, X_test, y_train, y_test=train_test_split(x, y,test_size=testSize,stratify=y)\n",
    "\n",
    "    for model_name, model in copy.deepcopy(classifiers).items():\n",
    "        \n",
    "        print('############## Training', model_name, \"##############\")\n",
    "        model.fit(X_train, y_train)\n",
    "\n",
    "        accuracy = model.score(X_test, y_test)\n",
    "\n",
    "        models.append({model_name:model})\n",
    "\n",
    "        print(model_name, 'accuracy:', accuracy*100, '%')\n",
    "        y_pred = model.predict(X_test)\n",
    "\n",
    "        mat = confusion_matrix(y_test, y_pred)\n",
    "\n",
    "        print(mat)\n",
    "            \n",
    "\n",
    "    return models"
   ]
  },
  {
   "cell_type": "code",
   "execution_count": 16,
   "metadata": {},
   "outputs": [
    {
     "name": "stdout",
     "output_type": "stream",
     "text": [
      "############## Training SVM ##############\n",
      "SVM accuracy: 100.0 %\n",
      "[[17  0]\n",
      " [ 0 21]]\n",
      "############## Training KNN ##############\n",
      "KNN accuracy: 100.0 %\n",
      "[[17  0]\n",
      " [ 0 21]]\n",
      "############## Training rnd ##############\n",
      "rnd accuracy: 100.0 %\n",
      "[[17  0]\n",
      " [ 0 21]]\n",
      "############## Training voting_clf_soft ##############\n",
      "voting_clf_soft accuracy: 100.0 %\n",
      "[[17  0]\n",
      " [ 0 21]]\n",
      "############## Training voting_clf_hard ##############\n",
      "voting_clf_hard accuracy: 100.0 %\n",
      "[[17  0]\n",
      " [ 0 21]]\n"
     ]
    }
   ],
   "source": [
    "models_hog=train_model(final_hog,targets_hog,0.2)"
   ]
  },
  {
   "cell_type": "code",
   "execution_count": 17,
   "metadata": {},
   "outputs": [],
   "source": [
    "import pickle\n",
    "\n",
    "def save_models(modelsArray,suffix):\n",
    "    for model in modelsArray:\n",
    "        pickle.dump(next(iter(model.values())), open(\n",
    "            f\"./models/{next(iter(model.keys()))}_{suffix}.pkl\", \"wb\"))"
   ]
  },
  {
   "cell_type": "code",
   "execution_count": 18,
   "metadata": {},
   "outputs": [],
   "source": [
    "save_models(models_hog,\"hog\")"
   ]
  },
  {
   "cell_type": "code",
   "execution_count": null,
   "metadata": {},
   "outputs": [],
   "source": []
  }
 ],
 "metadata": {
  "kernelspec": {
   "display_name": "Python 3",
   "language": "python",
   "name": "python3"
  },
  "language_info": {
   "codemirror_mode": {
    "name": "ipython",
    "version": 3
   },
   "file_extension": ".py",
   "mimetype": "text/x-python",
   "name": "python",
   "nbconvert_exporter": "python",
   "pygments_lexer": "ipython3",
   "version": "3.11.4"
  }
 },
 "nbformat": 4,
 "nbformat_minor": 2
}
