{
 "cells": [
  {
   "cell_type": "code",
   "execution_count": 1,
   "metadata": {},
   "outputs": [],
   "source": [
    "from sklearn.model_selection import train_test_split\n",
    "import tensorflow as tf\n",
    "\n"
   ]
  },
  {
   "cell_type": "code",
   "execution_count": 2,
   "metadata": {},
   "outputs": [],
   "source": [
    "import sys\n",
    "sys.path.insert(1, '../Pre Processing Stage/')\n",
    "sys.path.insert(1, '../Processing Stage/HoG')\n",
    "\n",
    "\n",
    "from commonfunctions import *\n",
    "from main import *\n",
    "from hog import *"
   ]
  },
  {
   "cell_type": "code",
   "execution_count": 3,
   "metadata": {},
   "outputs": [],
   "source": [
    "final_lbp_flattened=np.load('./numpyArrays/final_lbp_flattened.npy')\n",
    "targets_lbp=np.load('./numpyArrays/targets_lbp.npy')\n",
    "\n"
   ]
  },
  {
   "cell_type": "code",
   "execution_count": 4,
   "metadata": {},
   "outputs": [],
   "source": [
    "from sklearn.ensemble import RandomForestClassifier\n",
    "from sklearn.neighbors import KNeighborsClassifier\n",
    "from sklearn.svm import SVC\n",
    "from sklearn.ensemble import VotingClassifier\n",
    "from tensorflow import keras"
   ]
  },
  {
   "cell_type": "code",
   "execution_count": 5,
   "metadata": {},
   "outputs": [],
   "source": [
    "classifiers1 = {\n",
    "    'SVM': SVC(random_state=40,kernel='poly'),\n",
    "   \n",
    "    \n",
    "}"
   ]
  },
  {
   "cell_type": "code",
   "execution_count": 6,
   "metadata": {},
   "outputs": [],
   "source": [
    "classifiers2 = {\n",
    "    'KNN': KNeighborsClassifier(n_neighbors=7),\n",
    "    \n",
    "    \n",
    "}"
   ]
  },
  {
   "cell_type": "code",
   "execution_count": 7,
   "metadata": {},
   "outputs": [],
   "source": [
    "classifiers3 = {\n",
    "    \n",
    "    'rnd': RandomForestClassifier(random_state=40),\n",
    "   \n",
    "    \n",
    "}"
   ]
  },
  {
   "cell_type": "code",
   "execution_count": 8,
   "metadata": {},
   "outputs": [],
   "source": [
    "classifiers4 = {\n",
    "    \n",
    "    'voting_clf_soft' : VotingClassifier(\n",
    "    estimators=[\n",
    "        ('KNN', KNeighborsClassifier(n_neighbors=7)),\n",
    "        ('rf', RandomForestClassifier(random_state=42)),\n",
    "        ('svc', SVC(random_state=42,probability=True))\n",
    "    ],\n",
    "    voting='soft'), \n",
    "   \n",
    "    \n",
    "}"
   ]
  },
  {
   "cell_type": "code",
   "execution_count": 9,
   "metadata": {},
   "outputs": [],
   "source": [
    "classifiers5 = {\n",
    "  \n",
    "    'voting_clf_hard': VotingClassifier(\n",
    "    estimators=[\n",
    "            ('KNN', KNeighborsClassifier(n_neighbors=7)),\n",
    "            ('rf', RandomForestClassifier(random_state=42)),\n",
    "            ('svc', SVC(random_state=42))\n",
    "        ],\n",
    "    voting='hard'),\n",
    "    \n",
    "}"
   ]
  },
  {
   "cell_type": "code",
   "execution_count": 10,
   "metadata": {},
   "outputs": [],
   "source": [
    "from sklearn.metrics import confusion_matrix\n",
    "import copy\n",
    "\n",
    "\n",
    "def train_model(x,y,testSize,classifiers):\n",
    "    models=[]\n",
    "\n",
    "    X_train, X_test, y_train, y_test=train_test_split(x, y,test_size=testSize,stratify=y)\n",
    "\n",
    "    for model_name, model in copy.deepcopy(classifiers).items():\n",
    "        \n",
    "        print('############## Training', model_name, \"##############\")\n",
    "        model.fit(X_train, y_train)\n",
    "\n",
    "        accuracy = model.score(X_test, y_test)\n",
    "\n",
    "        models.append({model_name:model})\n",
    "\n",
    "        print(model_name, 'accuracy:', accuracy*100, '%')\n",
    "        y_pred = model.predict(X_test)\n",
    "\n",
    "        mat = confusion_matrix(y_test, y_pred)\n",
    "\n",
    "        print(mat)\n",
    "            \n",
    "\n",
    "    return models"
   ]
  },
  {
   "cell_type": "code",
   "execution_count": 11,
   "metadata": {},
   "outputs": [
    {
     "name": "stdout",
     "output_type": "stream",
     "text": [
      "############## Training SVM ##############\n"
     ]
    },
    {
     "name": "stdout",
     "output_type": "stream",
     "text": [
      "SVM accuracy: 100.0 %\n",
      "[[17  0]\n",
      " [ 0 21]]\n"
     ]
    }
   ],
   "source": [
    "models_lbp = train_model(final_lbp_flattened, targets_lbp, 0.2,classifiers1)"
   ]
  },
  {
   "cell_type": "code",
   "execution_count": 12,
   "metadata": {},
   "outputs": [
    {
     "name": "stdout",
     "output_type": "stream",
     "text": [
      "############## Training KNN ##############\n",
      "KNN accuracy: 100.0 %\n",
      "[[17  0]\n",
      " [ 0 21]]\n"
     ]
    }
   ],
   "source": [
    "models_lbp2 = train_model(final_lbp_flattened, targets_lbp, 0.2,classifiers2)"
   ]
  },
  {
   "cell_type": "code",
   "execution_count": 13,
   "metadata": {},
   "outputs": [
    {
     "name": "stdout",
     "output_type": "stream",
     "text": [
      "############## Training rnd ##############\n",
      "rnd accuracy: 94.73684210526315 %\n",
      "[[16  1]\n",
      " [ 1 20]]\n"
     ]
    }
   ],
   "source": [
    "models_lbp3 = train_model(final_lbp_flattened, targets_lbp, 0.2,classifiers3)"
   ]
  },
  {
   "cell_type": "code",
   "execution_count": 14,
   "metadata": {},
   "outputs": [
    {
     "name": "stdout",
     "output_type": "stream",
     "text": [
      "############## Training voting_clf_soft ##############\n",
      "voting_clf_soft accuracy: 100.0 %\n",
      "[[17  0]\n",
      " [ 0 21]]\n"
     ]
    }
   ],
   "source": [
    "models_lbp4 = train_model(final_lbp_flattened, targets_lbp, 0.2,classifiers4)"
   ]
  },
  {
   "cell_type": "code",
   "execution_count": 15,
   "metadata": {},
   "outputs": [
    {
     "name": "stdout",
     "output_type": "stream",
     "text": [
      "############## Training voting_clf_hard ##############\n",
      "voting_clf_hard accuracy: 97.36842105263158 %\n",
      "[[17  0]\n",
      " [ 1 20]]\n"
     ]
    }
   ],
   "source": [
    "models_lbp5 = train_model(final_lbp_flattened, targets_lbp, 0.2,classifiers5)"
   ]
  },
  {
   "cell_type": "code",
   "execution_count": 22,
   "metadata": {},
   "outputs": [],
   "source": [
    "import pickle\n",
    "\n",
    "def save_models(modelsArray,suffix):\n",
    "    for model in modelsArray:\n",
    "        pickle.dump(next(iter(model.values())), open(\n",
    "            f\"./models/{next(iter(model.keys()))}_{suffix}.pkl\", \"wb\"))"
   ]
  },
  {
   "cell_type": "code",
   "execution_count": 23,
   "metadata": {},
   "outputs": [],
   "source": [
    "save_models(models_lbp,\"lbp\")"
   ]
  },
  {
   "cell_type": "code",
   "execution_count": 24,
   "metadata": {},
   "outputs": [],
   "source": [
    "save_models(models_lbp2,\"lbp\")\n"
   ]
  },
  {
   "cell_type": "code",
   "execution_count": 25,
   "metadata": {},
   "outputs": [],
   "source": [
    "save_models(models_lbp3,\"lbp\")\n"
   ]
  },
  {
   "cell_type": "code",
   "execution_count": 26,
   "metadata": {},
   "outputs": [],
   "source": [
    "save_models(models_lbp4,\"lbp\")\n"
   ]
  },
  {
   "cell_type": "code",
   "execution_count": 27,
   "metadata": {},
   "outputs": [],
   "source": [
    "save_models(models_lbp5,\"lbp\")\n"
   ]
  },
  {
   "cell_type": "code",
   "execution_count": null,
   "metadata": {},
   "outputs": [],
   "source": []
  },
  {
   "cell_type": "code",
   "execution_count": null,
   "metadata": {},
   "outputs": [],
   "source": []
  }
 ],
 "metadata": {
  "kernelspec": {
   "display_name": "Python 3",
   "language": "python",
   "name": "python3"
  },
  "language_info": {
   "codemirror_mode": {
    "name": "ipython",
    "version": 3
   },
   "file_extension": ".py",
   "mimetype": "text/x-python",
   "name": "python",
   "nbconvert_exporter": "python",
   "pygments_lexer": "ipython3",
   "version": "3.11.4"
  }
 },
 "nbformat": 4,
 "nbformat_minor": 2
}
