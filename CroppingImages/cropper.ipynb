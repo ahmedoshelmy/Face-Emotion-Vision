{
 "cells": [
  {
   "cell_type": "code",
   "execution_count": 1,
   "metadata": {},
   "outputs": [],
   "source": [
    "import sys\n",
    "import os\n",
    "sys.path.insert(1, '../')\n",
    "\n",
    "from commonfunctions import *"
   ]
  },
  {
   "cell_type": "code",
   "execution_count": 2,
   "metadata": {},
   "outputs": [
    {
     "name": "stdout",
     "output_type": "stream",
     "text": [
      "There are 2 directories and 0 images in '../Data/Student-engagement-dataset/'.\n",
      "There are 3 directories and 0 images in '../Data/Student-engagement-dataset/Engaged'.\n",
      "There are 0 directories and 369 images in '../Data/Student-engagement-dataset/Engaged\\confused'.\n",
      "There are 0 directories and 347 images in '../Data/Student-engagement-dataset/Engaged\\engaged'.\n",
      "There are 0 directories and 360 images in '../Data/Student-engagement-dataset/Engaged\\frustrated'.\n",
      "There are 3 directories and 0 images in '../Data/Student-engagement-dataset/Not engaged'.\n",
      "There are 0 directories and 358 images in '../Data/Student-engagement-dataset/Not engaged\\bored'.\n",
      "There are 0 directories and 263 images in '../Data/Student-engagement-dataset/Not engaged\\drowsy'.\n",
      "There are 0 directories and 423 images in '../Data/Student-engagement-dataset/Not engaged\\Looking Away'.\n"
     ]
    }
   ],
   "source": [
    "ROOT_PATH = \"../Data/Student-engagement-dataset/\"\n",
    "images_paths = [ROOT_PATH+img for img in os.listdir(ROOT_PATH)]\n",
    "\n",
    "walk_through_dir(ROOT_PATH)"
   ]
  },
  {
   "cell_type": "code",
   "execution_count": 3,
   "metadata": {},
   "outputs": [],
   "source": [
    "path_to_data = \"..\\Data\\Student-engagement-dataset\\Engaged\"\n",
    "path_to_cr_data = \"..\\Data\\Student-engagement-dataset\\Engaged\\cropped\""
   ]
  },
  {
   "cell_type": "code",
   "execution_count": 4,
   "metadata": {},
   "outputs": [],
   "source": [
    "import os\n",
    "\n",
    "def get_image_paths(root_folder, image_extensions=['jpg', 'jpeg', 'png', 'gif']):\n",
    "    image_paths = []\n",
    "\n",
    "    for root, dirs, files in os.walk(root_folder):\n",
    "        for file in files:\n",
    "            if any(file.lower().endswith(ext) for ext in image_extensions):\n",
    "                image_paths.append(root+\"/\"+file)\n",
    "\n",
    "    return image_paths"
   ]
  },
  {
   "cell_type": "code",
   "execution_count": 5,
   "metadata": {},
   "outputs": [],
   "source": [
    "import shutil\n",
    "import os\n",
    "img_dirs = []\n",
    "for entry in os.scandir(path_to_data):\n",
    "    if entry.is_dir():\n",
    "        img_dirs.append(entry.path)\n",
    "\n",
    "if os.path.exists(path_to_cr_data):\n",
    "    shutil.rmtree(path_to_cr_data)\n",
    "os.mkdir(path_to_cr_data)"
   ]
  },
  {
   "cell_type": "code",
   "execution_count": 6,
   "metadata": {},
   "outputs": [
    {
     "name": "stdout",
     "output_type": "stream",
     "text": [
      "Generating cropped images in folder:  ..\\Data\\Student-engagement-dataset\\Engaged\\cropped\\confused\n",
      "Generating cropped images in folder:  ..\\Data\\Student-engagement-dataset\\Engaged\\cropped\\engaged\n",
      "Generating cropped images in folder:  ..\\Data\\Student-engagement-dataset\\Engaged\\cropped\\frustrated\n"
     ]
    }
   ],
   "source": [
    "cropped_image_dirs = []\n",
    "person_file_names_dict = {}\n",
    "for img_dir in img_dirs:\n",
    "    count = 0\n",
    "    person_name = img_dir.split('\\\\')[-1]\n",
    "    person_file_names_dict[person_name] = []\n",
    "    \n",
    "    for entry in get_image_paths(img_dir):\n",
    "        # image,res = process_image(entry.path)\n",
    "        # if(res==False):\n",
    "        #     continue\n",
    "\n",
    "        faces, colorfaces, faces_with_edges, responses = get_faces_with_eyes(cv2.imread(entry))\n",
    "        \n",
    "        # roi_color = get_cropped_image_if_2_eyes(entry)\n",
    "        for i in range(len(colorfaces)):\n",
    "            if colorfaces[i] is not None and (responses[i] == \"Success\" or responses[i] == \"just detected the face with 1 eyes\"):\n",
    "                cropped_folder = path_to_cr_data+'\\\\'+person_name\n",
    "                if not os.path.exists(cropped_folder):\n",
    "                    os.mkdir(cropped_folder)\n",
    "                    cropped_image_dirs.append(cropped_folder)\n",
    "                    print(\"Generating cropped images in folder: \", cropped_folder)\n",
    "                cropped_file_name = person_name+str(count)+\".png\"\n",
    "                cropped_file_path = cropped_folder+'\\\\'+cropped_file_name\n",
    "                cv2.imwrite(cropped_file_path, colorfaces[i])\n",
    "                person_file_names_dict[person_name].append(cropped_file_path)\n",
    "                count += 1"
   ]
  },
  {
   "cell_type": "code",
   "execution_count": 7,
   "metadata": {},
   "outputs": [],
   "source": [
    "path_to_data = \"..\\\\Data\\\\Student-engagement-dataset\\\\Not engaged\"\n",
    "path_to_cr_data = \"..\\\\Data\\\\Student-engagement-dataset\\\\Not engaged\\\\cropped\""
   ]
  },
  {
   "cell_type": "code",
   "execution_count": 8,
   "metadata": {},
   "outputs": [],
   "source": [
    "import shutil\n",
    "import os\n",
    "img_dirs = []\n",
    "for entry in os.scandir(path_to_data):\n",
    "    if entry.is_dir():\n",
    "        img_dirs.append(entry.path)\n",
    "\n",
    "if os.path.exists(path_to_cr_data):\n",
    "    shutil.rmtree(path_to_cr_data)\n",
    "os.mkdir(path_to_cr_data)"
   ]
  },
  {
   "cell_type": "code",
   "execution_count": 9,
   "metadata": {},
   "outputs": [
    {
     "name": "stdout",
     "output_type": "stream",
     "text": [
      "Generating cropped images in folder:  ..\\Data\\Student-engagement-dataset\\Not engaged\\cropped\\bored\n",
      "Generating cropped images in folder:  ..\\Data\\Student-engagement-dataset\\Not engaged\\cropped\\drowsy\n",
      "Generating cropped images in folder:  ..\\Data\\Student-engagement-dataset\\Not engaged\\cropped\\Looking Away\n"
     ]
    }
   ],
   "source": [
    "cropped_image_dirs = []\n",
    "person_file_names_dict = {}\n",
    "for img_dir in img_dirs:\n",
    "    count = 0\n",
    "    person_name = img_dir.split('\\\\')[-1]\n",
    "    person_file_names_dict[person_name] = []\n",
    "    for entry in get_image_paths(img_dir):\n",
    "        faces,colorfaces, faces_with_edges, responses = get_faces_with_eyes(cv2.imread(entry))\n",
    "        \n",
    "        # roi_color = get_cropped_image_if_2_eyes(entry.path)\n",
    "        for i in range(len(colorfaces)):\n",
    "            if colorfaces[i] is not None and (responses[i] == \"Success\" or responses[i] == \"just detected the face with 1 eyes\"):\n",
    "                cropped_folder = path_to_cr_data+'\\\\'+person_name\n",
    "                if not os.path.exists(cropped_folder):\n",
    "                    os.mkdir(cropped_folder)\n",
    "                    cropped_image_dirs.append(cropped_folder)\n",
    "                    print(\"Generating cropped images in folder: \", cropped_folder)\n",
    "                cropped_file_name = person_name+str(count)+\".png\"\n",
    "                cropped_file_path = cropped_folder+'\\\\'+cropped_file_name\n",
    "                cv2.imwrite(cropped_file_path, colorfaces[i])\n",
    "                person_file_names_dict[person_name].append(cropped_file_path)\n",
    "                count += 1"
   ]
  },
  {
   "cell_type": "code",
   "execution_count": null,
   "metadata": {},
   "outputs": [],
   "source": []
  }
 ],
 "metadata": {
  "kernelspec": {
   "display_name": "Python 3",
   "language": "python",
   "name": "python3"
  },
  "language_info": {
   "codemirror_mode": {
    "name": "ipython",
    "version": 3
   },
   "file_extension": ".py",
   "mimetype": "text/x-python",
   "name": "python",
   "nbconvert_exporter": "python",
   "pygments_lexer": "ipython3",
   "version": "3.11.4"
  }
 },
 "nbformat": 4,
 "nbformat_minor": 2
}
