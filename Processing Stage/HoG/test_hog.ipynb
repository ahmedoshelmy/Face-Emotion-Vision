{
 "cells": [
  {
   "cell_type": "code",
   "execution_count": 14,
   "metadata": {},
   "outputs": [
    {
     "name": "stdout",
     "output_type": "stream",
     "text": [
      "The autoreload extension is already loaded. To reload it, use:\n",
      "  %reload_ext autoreload\n"
     ]
    }
   ],
   "source": [
    "import hog\n",
    "%load_ext autoreload\n",
    "%autoreload 2"
   ]
  },
  {
   "cell_type": "code",
   "execution_count": 15,
   "metadata": {},
   "outputs": [
    {
     "ename": "AttributeError",
     "evalue": "'list' object has no attribute 'shape'",
     "output_type": "error",
     "traceback": [
      "\u001b[1;31m---------------------------------------------------------------------------\u001b[0m",
      "\u001b[1;31mAttributeError\u001b[0m                            Traceback (most recent call last)",
      "Cell \u001b[1;32mIn[15], line 1\u001b[0m\n\u001b[1;32m----> 1\u001b[0m \u001b[43mhog\u001b[49m\u001b[38;5;241;43m.\u001b[39;49m\u001b[43mmain\u001b[49m\u001b[43m(\u001b[49m\u001b[43m)\u001b[49m\n",
      "File \u001b[1;32mc:\\Users\\ASUS\\Documents\\GitHub\\Face-Emotion-Vision\\HoG\\hog.py:304\u001b[0m, in \u001b[0;36mmain\u001b[1;34m()\u001b[0m\n\u001b[0;32m    295\u001b[0m reference_fns: \u001b[38;5;28mlist\u001b[39m[Path] \u001b[38;5;241m=\u001b[39m [\n\u001b[0;32m    296\u001b[0m     os\u001b[38;5;241m.\u001b[39mpath\u001b[38;5;241m.\u001b[39mjoin(reference_path, image_path) \n\u001b[0;32m    297\u001b[0m     \u001b[38;5;28;01mfor\u001b[39;00m image_path \u001b[38;5;129;01min\u001b[39;00m os\u001b[38;5;241m.\u001b[39mlistdir(reference_path)\n\u001b[0;32m    298\u001b[0m ]\n\u001b[0;32m    299\u001b[0m source_fns: \u001b[38;5;28mlist\u001b[39m[Path] \u001b[38;5;241m=\u001b[39m [\n\u001b[0;32m    300\u001b[0m     os\u001b[38;5;241m.\u001b[39mpath\u001b[38;5;241m.\u001b[39mjoin(source_path, image_path) \n\u001b[0;32m    301\u001b[0m     \u001b[38;5;28;01mfor\u001b[39;00m image_path \u001b[38;5;129;01min\u001b[39;00m os\u001b[38;5;241m.\u001b[39mlistdir(source_path)\n\u001b[0;32m    302\u001b[0m ]\n\u001b[1;32m--> 304\u001b[0m reference_features: \u001b[38;5;28mlist\u001b[39m[np\u001b[38;5;241m.\u001b[39mndarray] \u001b[38;5;241m=\u001b[39m \u001b[43mget_feature_list_from_paths\u001b[49m\u001b[43m(\u001b[49m\u001b[43mreference_fns\u001b[49m\u001b[43m)\u001b[49m\n\u001b[0;32m    305\u001b[0m source_features: \u001b[38;5;28mlist\u001b[39m[np\u001b[38;5;241m.\u001b[39mndarray] \u001b[38;5;241m=\u001b[39m get_feature_list_from_paths(source_fns)\n\u001b[0;32m    306\u001b[0m \u001b[38;5;28;01mfor\u001b[39;00m r_idx, ref_feat \u001b[38;5;129;01min\u001b[39;00m \u001b[38;5;28menumerate\u001b[39m(reference_features):\n",
      "File \u001b[1;32mc:\\Users\\ASUS\\Documents\\GitHub\\Face-Emotion-Vision\\HoG\\hog.py:271\u001b[0m, in \u001b[0;36mget_feature_list_from_paths\u001b[1;34m(image_fns)\u001b[0m\n\u001b[0;32m    269\u001b[0m images_list \u001b[38;5;241m=\u001b[39m [read_image(image_fn) \u001b[38;5;28;01mfor\u001b[39;00m image_fn \u001b[38;5;129;01min\u001b[39;00m image_fns]\n\u001b[0;32m    270\u001b[0m hog_features_list \u001b[38;5;241m=\u001b[39m [compute_hog_features(image) \u001b[38;5;28;01mfor\u001b[39;00m image \u001b[38;5;129;01min\u001b[39;00m images_list]\n\u001b[1;32m--> 271\u001b[0m \u001b[38;5;28mprint\u001b[39m(\u001b[43mhog_features_list\u001b[49m\u001b[38;5;241;43m.\u001b[39;49m\u001b[43mshape\u001b[49m)\n\u001b[0;32m    272\u001b[0m \u001b[38;5;28;01mreturn\u001b[39;00m hog_features_list\n",
      "\u001b[1;31mAttributeError\u001b[0m: 'list' object has no attribute 'shape'"
     ]
    }
   ],
   "source": [
    "hog.main()"
   ]
  },
  {
   "cell_type": "code",
   "execution_count": null,
   "metadata": {},
   "outputs": [],
   "source": []
  }
 ],
 "metadata": {
  "kernelspec": {
   "display_name": "Python 3",
   "language": "python",
   "name": "python3"
  },
  "language_info": {
   "codemirror_mode": {
    "name": "ipython",
    "version": 3
   },
   "file_extension": ".py",
   "mimetype": "text/x-python",
   "name": "python",
   "nbconvert_exporter": "python",
   "pygments_lexer": "ipython3",
   "version": "3.9.13"
  }
 },
 "nbformat": 4,
 "nbformat_minor": 2
}
