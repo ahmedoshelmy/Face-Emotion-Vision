{
 "cells": [
  {
   "cell_type": "code",
   "execution_count": null,
   "metadata": {},
   "outputs": [],
   "source": [
    "import numpy as np\n",
    "m = [[1,2,4],\n",
    "     [2,2,3],\n",
    "     [1,4,5]]\n",
    "def ComputeLBP(x,y,arr):\n",
    "    f=s=-1\n",
    "    value=0\n",
    "    height,width= arr.shape\n",
    "    for i in range(8):\n",
    "        if(i==3 or i==7):\n",
    "            f=0\n",
    "        elif(i>3):\n",
    "            f=1\n",
    "        if(i==1 or i==5):\n",
    "            s=0\n",
    "        elif(i>1 and i<5):\n",
    "            s=1\n",
    "        else: \n",
    "            s=-1\n",
    "        if(x+f>-1 and x+f<height and y+s>-1 and y+s<width):\n",
    "                value+=pow(2,7-i) if arr[x+f,y+s]>arr[x,y] else 0\n",
    "    return value\n",
    "\n",
    "def LBP (arr):\n",
    "    tempArr=np.copy(arr)\n",
    "    hight,width= tempArr.shape\n",
    "    for i in range(hight):\n",
    "        for j in range(width):\n",
    "            tempArr[i,j] = ComputeLBP(i,j,tempArr)\n",
    "    return tempArr        \n",
    "print(LBP(m))"
   ]
  },
  {
   "cell_type": "code",
   "execution_count": null,
   "metadata": {},
   "outputs": [],
   "source": []
  }
 ],
 "metadata": {
  "kernelspec": {
   "display_name": "Python 3",
   "language": "python",
   "name": "python3"
  },
  "language_info": {
   "name": "python",
   "version": "3.10.10"
  }
 },
 "nbformat": 4,
 "nbformat_minor": 2
}
