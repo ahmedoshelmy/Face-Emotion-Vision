{
 "cells": [
  {
   "cell_type": "code",
   "execution_count": 1,
   "metadata": {},
   "outputs": [
    {
     "ename": "ModuleNotFoundError",
     "evalue": "No module named 'numpy'",
     "output_type": "error",
     "traceback": [
      "\u001b[1;31m---------------------------------------------------------------------------\u001b[0m",
      "\u001b[1;31mModuleNotFoundError\u001b[0m                       Traceback (most recent call last)",
      "\u001b[1;32mc:\\CMP3\\Image Processing\\Project\\Face-Emotion-Vision\\LBP\\LBP.ipynb Cell 1\u001b[0m line \u001b[0;36m1\n\u001b[1;32m----> <a href='vscode-notebook-cell:/c%3A/CMP3/Image%20Processing/Project/Face-Emotion-Vision/LBP/LBP.ipynb#W0sZmlsZQ%3D%3D?line=0'>1</a>\u001b[0m \u001b[39mimport\u001b[39;00m \u001b[39mnumpy\u001b[39;00m \u001b[39mas\u001b[39;00m \u001b[39mnp\u001b[39;00m\n\u001b[0;32m      <a href='vscode-notebook-cell:/c%3A/CMP3/Image%20Processing/Project/Face-Emotion-Vision/LBP/LBP.ipynb#W0sZmlsZQ%3D%3D?line=1'>2</a>\u001b[0m m \u001b[39m=\u001b[39m [[\u001b[39m1\u001b[39m,\u001b[39m2\u001b[39m,\u001b[39m4\u001b[39m],\n\u001b[0;32m      <a href='vscode-notebook-cell:/c%3A/CMP3/Image%20Processing/Project/Face-Emotion-Vision/LBP/LBP.ipynb#W0sZmlsZQ%3D%3D?line=2'>3</a>\u001b[0m      [\u001b[39m2\u001b[39m,\u001b[39m2\u001b[39m,\u001b[39m3\u001b[39m],\n\u001b[0;32m      <a href='vscode-notebook-cell:/c%3A/CMP3/Image%20Processing/Project/Face-Emotion-Vision/LBP/LBP.ipynb#W0sZmlsZQ%3D%3D?line=3'>4</a>\u001b[0m      [\u001b[39m1\u001b[39m,\u001b[39m4\u001b[39m,\u001b[39m5\u001b[39m]]\n\u001b[0;32m      <a href='vscode-notebook-cell:/c%3A/CMP3/Image%20Processing/Project/Face-Emotion-Vision/LBP/LBP.ipynb#W0sZmlsZQ%3D%3D?line=4'>5</a>\u001b[0m \u001b[39mdef\u001b[39;00m \u001b[39mComputeLBP\u001b[39m(x,y,arr):\n",
      "\u001b[1;31mModuleNotFoundError\u001b[0m: No module named 'numpy'"
     ]
    }
   ],
   "source": [
    "import numpy as np\n",
    "m = [[1,2,4],\n",
    "     [2,2,3],\n",
    "     [1,4,5]]\n",
    "def ComputeLBP(x,y,arr):\n",
    "    f=s=-1\n",
    "    value=0\n",
    "    height,width= arr.shape\n",
    "    for i in range(8):\n",
    "        if(i==3 or i==7):\n",
    "            f=0\n",
    "        elif(i>3):\n",
    "            f=1\n",
    "        if(i==1 or i==5):\n",
    "            s=0\n",
    "        elif(i>1 and i<5):\n",
    "            s=1\n",
    "        else: \n",
    "            s=-1\n",
    "        if(x+f>-1 and x+f<height and y+s>-1 and y+s<width):\n",
    "                value+=pow(2,7-i) if arr[x+f,y+s]>arr[x,y] else 0\n",
    "    return value\n",
    "\n",
    "def LBP (arr):\n",
    "    tempArr=np.copy(arr)\n",
    "    hight,width= tempArr.shape\n",
    "    for i in range(hight):\n",
    "        for j in range(width):\n",
    "            tempArr[i,j] = ComputeLBP(i,j,tempArr)\n",
    "    return tempArr        \n",
    "print(LBP(m))"
   ]
  },
  {
   "cell_type": "code",
   "execution_count": null,
   "metadata": {},
   "outputs": [],
   "source": []
  }
 ],
 "metadata": {
  "kernelspec": {
   "display_name": "Python 3",
   "language": "python",
   "name": "python3"
  },
  "language_info": {
   "codemirror_mode": {
    "name": "ipython",
    "version": 3
   },
   "file_extension": ".py",
   "mimetype": "text/x-python",
   "name": "python",
   "nbconvert_exporter": "python",
   "pygments_lexer": "ipython3",
   "version": "3.10.10"
  }
 },
 "nbformat": 4,
 "nbformat_minor": 2
}
