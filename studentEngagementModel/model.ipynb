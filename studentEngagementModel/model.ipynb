{
 "cells": [
  {
   "cell_type": "code",
   "execution_count": 16,
   "metadata": {},
   "outputs": [],
   "source": [
    "import pandas as pd\n",
    "import numpy as np\n",
    "from sklearn.model_selection import train_test_split"
   ]
  },
  {
   "cell_type": "code",
   "execution_count": 17,
   "metadata": {},
   "outputs": [],
   "source": [
    "engaged_df=pd.read_csv('../Data/Student-engagement-dataset/engaged.csv')\n",
    "notEngaged_df = pd.read_csv('../Data/Student-engagement-dataset/notEngaged.csv')"
   ]
  },
  {
   "cell_type": "code",
   "execution_count": 18,
   "metadata": {},
   "outputs": [],
   "source": [
    "engaged_x=engaged_df.drop(['engaged','path','state'],axis=1)\n",
    "engaged_y=engaged_df['engaged']\n",
    "\n",
    "notEngaged_x = notEngaged_df.drop(['engaged', 'path', 'state'], axis=1)\n",
    "notEngaged_y = notEngaged_df['engaged']"
   ]
  },
  {
   "cell_type": "code",
   "execution_count": 19,
   "metadata": {},
   "outputs": [],
   "source": [
    "X = pd.concat([engaged_x, notEngaged_x], axis=0)\n",
    "Y = pd.concat([engaged_y, notEngaged_y], axis=0)"
   ]
  },
  {
   "cell_type": "code",
   "execution_count": 20,
   "metadata": {},
   "outputs": [],
   "source": [
    "# X_train.drop(['mouthSmileLeft',\t'mouthSmileRight',\t'mouthStretchLeft',\n",
    "#              'mouthStretchRight',\t'mouthUpperUpLeft',\t'mouthUpperUpRight']).head(5)"
   ]
  },
  {
   "cell_type": "code",
   "execution_count": 21,
   "metadata": {},
   "outputs": [],
   "source": [
    "from sklearn.ensemble import RandomForestClassifier\n",
    "from sklearn.neighbors import KNeighborsClassifier\n",
    "from sklearn.svm import SVC\n",
    "from sklearn.ensemble import VotingClassifier\n",
    "from tensorflow import keras"
   ]
  },
  {
   "cell_type": "code",
   "execution_count": 22,
   "metadata": {},
   "outputs": [],
   "source": [
    "classifiers = {\n",
    "    'SVM': SVC(random_state=40, C=1),\n",
    "    'KNN': KNeighborsClassifier(n_neighbors=7),\n",
    "    'rnd': RandomForestClassifier(random_state=40),\n",
    "    'voting_clf_soft': VotingClassifier(\n",
    "        estimators=[\n",
    "            ('KNN', KNeighborsClassifier(n_neighbors=7)),\n",
    "            ('rf', RandomForestClassifier(random_state=42)),\n",
    "            ('svc', SVC(random_state=42, probability=True, C=1))\n",
    "        ],\n",
    "        voting='soft'),\n",
    "    'voting_clf_hard': VotingClassifier(\n",
    "        estimators=[\n",
    "            ('KNN', KNeighborsClassifier(n_neighbors=7)),\n",
    "            ('rf', RandomForestClassifier(random_state=42)),\n",
    "            ('svc', SVC(random_state=42, C=1))\n",
    "        ],\n",
    "        voting='hard'),\n",
    "\n",
    "}"
   ]
  },
  {
   "cell_type": "code",
   "execution_count": 23,
   "metadata": {},
   "outputs": [],
   "source": [
    "from sklearn.metrics import confusion_matrix\n",
    "import copy\n",
    "\n",
    "\n",
    "def train_model(x, y, testSize):\n",
    "    models = []\n",
    "\n",
    "    X_train, X_test, y_train, y_test = train_test_split(\n",
    "        x, y, test_size=testSize, stratify=y)\n",
    "\n",
    "    for model_name, model in copy.deepcopy(classifiers).items():\n",
    "\n",
    "        print('############## Training', model_name, \"##############\")\n",
    "        model.fit(X_train, y_train)\n",
    "\n",
    "        accuracy = model.score(X_test, y_test)\n",
    "\n",
    "        models.append({model_name: model})\n",
    "\n",
    "        print(model_name, 'accuracy:', accuracy*100, '%')\n",
    "        y_pred = model.predict(X_test)\n",
    "\n",
    "        mat = confusion_matrix(y_test, y_pred)\n",
    "\n",
    "        print(mat)\n",
    "\n",
    "    return models"
   ]
  },
  {
   "cell_type": "code",
   "execution_count": 24,
   "metadata": {},
   "outputs": [
    {
     "name": "stdout",
     "output_type": "stream",
     "text": [
      "############## Training SVM ##############\n",
      "SVM accuracy: 92.16300940438872 %\n",
      "[[119  10]\n",
      " [ 15 175]]\n",
      "############## Training KNN ##############\n",
      "KNN accuracy: 95.61128526645768 %\n",
      "[[124   5]\n",
      " [  9 181]]\n",
      "############## Training rnd ##############\n",
      "rnd accuracy: 96.55172413793103 %\n",
      "[[124   5]\n",
      " [  6 184]]\n",
      "############## Training voting_clf_soft ##############\n",
      "voting_clf_soft accuracy: 94.98432601880877 %\n",
      "[[124   5]\n",
      " [ 11 179]]\n",
      "############## Training voting_clf_hard ##############\n",
      "voting_clf_hard accuracy: 95.29780564263322 %\n",
      "[[124   5]\n",
      " [ 10 180]]\n"
     ]
    }
   ],
   "source": [
    "models = train_model(X,Y, 0.2)"
   ]
  },
  {
   "cell_type": "code",
   "execution_count": 34,
   "metadata": {},
   "outputs": [
    {
     "name": "stdout",
     "output_type": "stream",
     "text": [
      "0.02 browDownLeft\n",
      "0.02 browDownRight\n",
      "0.02 browInnerUp\n",
      "0.03 browOuterUpLeft\n",
      "0.03 browOuterUpRight\n",
      "0.04 eyeBlinkLeft\n",
      "0.04 eyeBlinkRight\n",
      "0.03 eyeLookDownLeft\n",
      "0.03 eyeLookDownRight\n",
      "0.02 eyeLookInLeft\n",
      "0.02 eyeLookInRight\n",
      "0.02 eyeLookOutLeft\n",
      "0.01 eyeLookOutRight\n",
      "0.03 eyeLookUpLeft\n",
      "0.02 eyeLookUpRight\n",
      "0.03 eyeSquintLeft\n",
      "0.02 eyeSquintRight\n",
      "0.04 eyeWideLeft\n",
      "0.06 eyeWideRight\n",
      "0.03 jawOpen\n",
      "0.06 mouthSmileLeft\n",
      "0.06 mouthSmileRight\n",
      "0.05 mouthStretchLeft\n",
      "0.02 mouthStretchRight\n",
      "0.1 mouthUpperUpLeft\n",
      "0.14 mouthUpperUpRight\n"
     ]
    }
   ],
   "source": [
    "for score, name in zip(models[2]['rnd'].feature_importances_, models[2]['rnd'].feature_names_in_):\n",
    "    print(round(score, 2), name)"
   ]
  },
  {
   "cell_type": "code",
   "execution_count": 33,
   "metadata": {},
   "outputs": [],
   "source": [
    "models[2]['rnd'].feature_importances_[-1]=0.07\n",
    "models[2]['rnd'].feature_importances_[-2]=0.07\n",
    "models[2]['rnd'].feature_importances_[-13] = 0.06\n",
    "models[2]['rnd'].feature_importances_[-14] = 0.06"
   ]
  },
  {
   "cell_type": "code",
   "execution_count": 14,
   "metadata": {},
   "outputs": [],
   "source": [
    "import pickle\n",
    "\n",
    "\n",
    "def save_models(modelsArray):\n",
    "    for model in modelsArray:\n",
    "        pickle.dump(next(iter(model.values())), open(\n",
    "            f\"./models/{next(iter(model.keys()))}.pkl\", \"wb\"))"
   ]
  },
  {
   "cell_type": "code",
   "execution_count": 15,
   "metadata": {},
   "outputs": [],
   "source": [
    "save_models(models)"
   ]
  },
  {
   "cell_type": "code",
   "execution_count": 11,
   "metadata": {},
   "outputs": [],
   "source": [
    "# models.feature_importances_"
   ]
  },
  {
   "cell_type": "code",
   "execution_count": 17,
   "metadata": {},
   "outputs": [
    {
     "data": {
      "text/plain": [
       "0.965625"
      ]
     },
     "execution_count": 17,
     "metadata": {},
     "output_type": "execute_result"
    }
   ],
   "source": [
    "# rnd_forest.score(X_test,y_test)"
   ]
  },
  {
   "cell_type": "code",
   "execution_count": 32,
   "metadata": {},
   "outputs": [],
   "source": [
    "# import sys\n",
    "# sys.path.insert(1, '../')\n",
    "\n",
    "# from commonfunctions import *"
   ]
  },
  {
   "cell_type": "code",
   "execution_count": 33,
   "metadata": {},
   "outputs": [],
   "source": [
    "# import mediapipe as mp\n",
    "# from mediapipe.tasks import python\n",
    "# from mediapipe.tasks.python import vision\n",
    "# import skimage.io as IO\n",
    "# import cv2\n",
    "# import os\n",
    "# import pandas as pd"
   ]
  },
  {
   "cell_type": "code",
   "execution_count": 34,
   "metadata": {},
   "outputs": [],
   "source": [
    "# base_options = python.BaseOptions(model_asset_path='../MediaPipe/face_landmarker.task')\n",
    "# options = vision.FaceLandmarkerOptions(base_options=base_options,\n",
    "#                                        output_face_blendshapes=True,\n",
    "#                                        output_facial_transformation_matrixes=True,\n",
    "#                                        num_faces=1)\n",
    "# detector = vision.FaceLandmarker.create_from_options(options)\n",
    "\n",
    "\n",
    "# def detect(path):\n",
    "#     image = mp.Image.create_from_file(path)\n",
    "\n",
    "#     detection_result = detector.detect(image)\n",
    "\n",
    "#     annotated_image = draw_landmarks_on_image(\n",
    "#         image.numpy_view(), detection_result)\n",
    "#     return annotated_image, detection_result"
   ]
  },
  {
   "cell_type": "code",
   "execution_count": 35,
   "metadata": {},
   "outputs": [],
   "source": [
    "# path = \"../Data/Student-engagement-dataset/Engaged/confused/0021.jpg\"\n",
    "# image, result = detect(path)"
   ]
  },
  {
   "cell_type": "code",
   "execution_count": 36,
   "metadata": {},
   "outputs": [],
   "source": [
    "# face_blendshapes_names = [\n",
    "#     face_blendshapes_category.category_name for face_blendshapes_category in result.face_blendshapes[0]]\n",
    "# face_blendshapes_scores = [\n",
    "#     face_blendshapes_category.score for face_blendshapes_category in result.face_blendshapes[0]]\n",
    "# face_blendshapes_ranks = range(len(face_blendshapes_names))"
   ]
  },
  {
   "cell_type": "code",
   "execution_count": 37,
   "metadata": {},
   "outputs": [],
   "source": [
    "\n",
    "# needed_names = [face_blendshapes_names[i] for i in [1, 2, 3, 4, 5, 9, 10, 11,\n",
    "#                                                     12, 13, 14, 15, 16, 17, 18, 19, 20, 21, 22, 25, 44, 45, 46, 47, 48, 49]]\n",
    "\n",
    "# needed_scores = [face_blendshapes_scores[i] for i in [1, 2, 3, 4, 5, 9, 10,\n",
    "#                                                       11, 12, 13, 14, 15, 16, 17, 18, 19, 20, 21, 22, 25, 44, 45, 46, 47, 48, 49]]\n",
    "# # for name, score in zip(needed_names, needed_scores):\n",
    "# #     print(f\"{name}: {score}\")"
   ]
  },
  {
   "cell_type": "code",
   "execution_count": 31,
   "metadata": {},
   "outputs": [
    {
     "data": {
      "text/plain": [
       "array([[5.27868308e-02, 3.91216949e-02, 1.00689486e-01, 5.52598089e-02,\n",
       "        5.48736639e-02, 1.67119369e-01, 1.16762161e-01, 4.46201712e-01,\n",
       "        4.19400632e-01, 4.94345099e-01, 3.59314680e-03, 7.64214806e-03,\n",
       "        4.74294603e-01, 1.49952695e-02, 1.34808309e-02, 2.48957589e-01,\n",
       "        2.07850814e-01, 4.41030599e-03, 6.23841444e-03, 2.52401514e-04,\n",
       "        8.38337932e-04, 8.59036460e-04, 2.85428599e-03, 2.79062684e-03,\n",
       "        3.86311230e-03, 6.15163660e-03]])"
      ]
     },
     "execution_count": 31,
     "metadata": {},
     "output_type": "execute_result"
    }
   ],
   "source": [
    "# np.array(X_train.head(1))"
   ]
  },
  {
   "cell_type": "code",
   "execution_count": 32,
   "metadata": {},
   "outputs": [
    {
     "name": "stderr",
     "output_type": "stream",
     "text": [
      "c:\\Users\\lenovo\\AppData\\Local\\Programs\\Python\\Python311\\Lib\\site-packages\\sklearn\\base.py:439: UserWarning: X does not have valid feature names, but RandomForestClassifier was fitted with feature names\n",
      "  warnings.warn(\n"
     ]
    },
    {
     "data": {
      "text/plain": [
       "array([1], dtype=int64)"
      ]
     },
     "execution_count": 32,
     "metadata": {},
     "output_type": "execute_result"
    }
   ],
   "source": [
    "# rnd_forest.predict([needed_scores])"
   ]
  },
  {
   "cell_type": "code",
   "execution_count": 8,
   "metadata": {},
   "outputs": [],
   "source": [
    "# import pickle\n",
    "\n",
    "# # pickle.dump(rnd_forest, open(\"random_forest.pkl\", \"wb\"))\n",
    "\n",
    "# pickle.dump(svc, open(\"svc.pkl\", \"wb\"))\n",
    "\n"
   ]
  },
  {
   "cell_type": "code",
   "execution_count": 34,
   "metadata": {},
   "outputs": [],
   "source": [
    "# model = pickle.load(open(\n",
    "#     \"D:\\GitHub Repos\\Face-Emotion-Vision\\studentEngagementModel\\\\random_forest.pkl\", \"rb\"))"
   ]
  },
  {
   "cell_type": "code",
   "execution_count": 35,
   "metadata": {},
   "outputs": [
    {
     "name": "stderr",
     "output_type": "stream",
     "text": [
      "c:\\Users\\lenovo\\AppData\\Local\\Programs\\Python\\Python311\\Lib\\site-packages\\sklearn\\base.py:439: UserWarning: X does not have valid feature names, but RandomForestClassifier was fitted with feature names\n",
      "  warnings.warn(\n"
     ]
    },
    {
     "data": {
      "text/plain": [
       "array([1], dtype=int64)"
      ]
     },
     "execution_count": 35,
     "metadata": {},
     "output_type": "execute_result"
    }
   ],
   "source": [
    "# model.predict([needed_scores])"
   ]
  },
  {
   "cell_type": "code",
   "execution_count": 37,
   "metadata": {},
   "outputs": [
    {
     "name": "stdout",
     "output_type": "stream",
     "text": [
      "Engaged\n"
     ]
    },
    {
     "name": "stderr",
     "output_type": "stream",
     "text": [
      "c:\\Users\\lenovo\\AppData\\Local\\Programs\\Python\\Python311\\Lib\\site-packages\\sklearn\\base.py:439: UserWarning: X does not have valid feature names, but RandomForestClassifier was fitted with feature names\n",
      "  warnings.warn(\n"
     ]
    }
   ],
   "source": [
    "# path = \"../Data/Student-engagement-dataset/Engaged/confused/0021.jpg\"\n",
    "# image, result = detect(path)\n",
    "\n",
    "# face_blendshapes_names = [\n",
    "#     face_blendshapes_category.category_name for face_blendshapes_category in result.face_blendshapes[0]]\n",
    "# face_blendshapes_scores = [\n",
    "#     face_blendshapes_category.score for face_blendshapes_category in result.face_blendshapes[0]]\n",
    "\n",
    "\n",
    "# needed_names = [face_blendshapes_names[i] for i in [1, 2, 3, 4, 5, 9, 10, 11,\n",
    "#                                                     12, 13, 14, 15, 16, 17, 18, 19, 20, 21, 22, 25, 44, 45, 46, 47, 48, 49]]\n",
    "\n",
    "# needed_scores = [face_blendshapes_scores[i] for i in [1, 2, 3, 4, 5, 9, 10,\n",
    "#                                                       11, 12, 13, 14, 15, 16, 17, 18, 19, 20, 21, 22, 25, 44, 45, 46, 47, 48, 49]]\n",
    "\n",
    "# if model.predict([needed_scores]) == 1:\n",
    "#     print(\"Engaged\")\n",
    "# else:\n",
    "#     print(\"Not Engaged\")"
   ]
  },
  {
   "cell_type": "code",
   "execution_count": 68,
   "metadata": {},
   "outputs": [
    {
     "data": {
      "text/html": [
       "<style>#sk-container-id-13 {color: black;background-color: white;}#sk-container-id-13 pre{padding: 0;}#sk-container-id-13 div.sk-toggleable {background-color: white;}#sk-container-id-13 label.sk-toggleable__label {cursor: pointer;display: block;width: 100%;margin-bottom: 0;padding: 0.3em;box-sizing: border-box;text-align: center;}#sk-container-id-13 label.sk-toggleable__label-arrow:before {content: \"▸\";float: left;margin-right: 0.25em;color: #696969;}#sk-container-id-13 label.sk-toggleable__label-arrow:hover:before {color: black;}#sk-container-id-13 div.sk-estimator:hover label.sk-toggleable__label-arrow:before {color: black;}#sk-container-id-13 div.sk-toggleable__content {max-height: 0;max-width: 0;overflow: hidden;text-align: left;background-color: #f0f8ff;}#sk-container-id-13 div.sk-toggleable__content pre {margin: 0.2em;color: black;border-radius: 0.25em;background-color: #f0f8ff;}#sk-container-id-13 input.sk-toggleable__control:checked~div.sk-toggleable__content {max-height: 200px;max-width: 100%;overflow: auto;}#sk-container-id-13 input.sk-toggleable__control:checked~label.sk-toggleable__label-arrow:before {content: \"▾\";}#sk-container-id-13 div.sk-estimator input.sk-toggleable__control:checked~label.sk-toggleable__label {background-color: #d4ebff;}#sk-container-id-13 div.sk-label input.sk-toggleable__control:checked~label.sk-toggleable__label {background-color: #d4ebff;}#sk-container-id-13 input.sk-hidden--visually {border: 0;clip: rect(1px 1px 1px 1px);clip: rect(1px, 1px, 1px, 1px);height: 1px;margin: -1px;overflow: hidden;padding: 0;position: absolute;width: 1px;}#sk-container-id-13 div.sk-estimator {font-family: monospace;background-color: #f0f8ff;border: 1px dotted black;border-radius: 0.25em;box-sizing: border-box;margin-bottom: 0.5em;}#sk-container-id-13 div.sk-estimator:hover {background-color: #d4ebff;}#sk-container-id-13 div.sk-parallel-item::after {content: \"\";width: 100%;border-bottom: 1px solid gray;flex-grow: 1;}#sk-container-id-13 div.sk-label:hover label.sk-toggleable__label {background-color: #d4ebff;}#sk-container-id-13 div.sk-serial::before {content: \"\";position: absolute;border-left: 1px solid gray;box-sizing: border-box;top: 0;bottom: 0;left: 50%;z-index: 0;}#sk-container-id-13 div.sk-serial {display: flex;flex-direction: column;align-items: center;background-color: white;padding-right: 0.2em;padding-left: 0.2em;position: relative;}#sk-container-id-13 div.sk-item {position: relative;z-index: 1;}#sk-container-id-13 div.sk-parallel {display: flex;align-items: stretch;justify-content: center;background-color: white;position: relative;}#sk-container-id-13 div.sk-item::before, #sk-container-id-13 div.sk-parallel-item::before {content: \"\";position: absolute;border-left: 1px solid gray;box-sizing: border-box;top: 0;bottom: 0;left: 50%;z-index: -1;}#sk-container-id-13 div.sk-parallel-item {display: flex;flex-direction: column;z-index: 1;position: relative;background-color: white;}#sk-container-id-13 div.sk-parallel-item:first-child::after {align-self: flex-end;width: 50%;}#sk-container-id-13 div.sk-parallel-item:last-child::after {align-self: flex-start;width: 50%;}#sk-container-id-13 div.sk-parallel-item:only-child::after {width: 0;}#sk-container-id-13 div.sk-dashed-wrapped {border: 1px dashed gray;margin: 0 0.4em 0.5em 0.4em;box-sizing: border-box;padding-bottom: 0.4em;background-color: white;}#sk-container-id-13 div.sk-label label {font-family: monospace;font-weight: bold;display: inline-block;line-height: 1.2em;}#sk-container-id-13 div.sk-label-container {text-align: center;}#sk-container-id-13 div.sk-container {/* jupyter's `normalize.less` sets `[hidden] { display: none; }` but bootstrap.min.css set `[hidden] { display: none !important; }` so we also need the `!important` here to be able to override the default hidden behavior on the sphinx rendered scikit-learn.org. See: https://github.com/scikit-learn/scikit-learn/issues/21755 */display: inline-block !important;position: relative;}#sk-container-id-13 div.sk-text-repr-fallback {display: none;}</style><div id=\"sk-container-id-13\" class=\"sk-top-container\"><div class=\"sk-text-repr-fallback\"><pre>VotingClassifier(estimators=[(&#x27;rf&#x27;, RandomForestClassifier(random_state=42)),\n",
       "                             (&#x27;svc&#x27;, SVC(random_state=42))])</pre><b>In a Jupyter environment, please rerun this cell to show the HTML representation or trust the notebook. <br />On GitHub, the HTML representation is unable to render, please try loading this page with nbviewer.org.</b></div><div class=\"sk-container\" hidden><div class=\"sk-item sk-dashed-wrapped\"><div class=\"sk-label-container\"><div class=\"sk-label sk-toggleable\"><input class=\"sk-toggleable__control sk-hidden--visually\" id=\"sk-estimator-id-27\" type=\"checkbox\" ><label for=\"sk-estimator-id-27\" class=\"sk-toggleable__label sk-toggleable__label-arrow\">VotingClassifier</label><div class=\"sk-toggleable__content\"><pre>VotingClassifier(estimators=[(&#x27;rf&#x27;, RandomForestClassifier(random_state=42)),\n",
       "                             (&#x27;svc&#x27;, SVC(random_state=42))])</pre></div></div></div><div class=\"sk-parallel\"><div class=\"sk-parallel-item\"><div class=\"sk-item\"><div class=\"sk-label-container\"><div class=\"sk-label sk-toggleable\"><label>rf</label></div></div><div class=\"sk-serial\"><div class=\"sk-item\"><div class=\"sk-estimator sk-toggleable\"><input class=\"sk-toggleable__control sk-hidden--visually\" id=\"sk-estimator-id-28\" type=\"checkbox\" ><label for=\"sk-estimator-id-28\" class=\"sk-toggleable__label sk-toggleable__label-arrow\">RandomForestClassifier</label><div class=\"sk-toggleable__content\"><pre>RandomForestClassifier(random_state=42)</pre></div></div></div></div></div></div><div class=\"sk-parallel-item\"><div class=\"sk-item\"><div class=\"sk-label-container\"><div class=\"sk-label sk-toggleable\"><label>svc</label></div></div><div class=\"sk-serial\"><div class=\"sk-item\"><div class=\"sk-estimator sk-toggleable\"><input class=\"sk-toggleable__control sk-hidden--visually\" id=\"sk-estimator-id-29\" type=\"checkbox\" ><label for=\"sk-estimator-id-29\" class=\"sk-toggleable__label sk-toggleable__label-arrow\">SVC</label><div class=\"sk-toggleable__content\"><pre>SVC(random_state=42)</pre></div></div></div></div></div></div></div></div></div></div>"
      ],
      "text/plain": [
       "VotingClassifier(estimators=[('rf', RandomForestClassifier(random_state=42)),\n",
       "                             ('svc', SVC(random_state=42))])"
      ]
     },
     "execution_count": 68,
     "metadata": {},
     "output_type": "execute_result"
    }
   ],
   "source": [
    "# from sklearn.ensemble import RandomForestClassifier, VotingClassifier\n",
    "# from sklearn.linear_model import LogisticRegression\n",
    "# from sklearn.model_selection import train_test_split\n",
    "# from sklearn.svm import SVC\n",
    "\n",
    "\n",
    "# voting_clf = VotingClassifier(\n",
    "#     estimators=[\n",
    "#         # ('lr', LogisticRegression(random_state=42)),\n",
    "#         ('rf', RandomForestClassifier(random_state=42)),\n",
    "#         ('svc', SVC(random_state=42))\n",
    "#     ]\n",
    "# )\n",
    "# # voting_clf.fit(X_train.values, y_train)\n",
    "\n",
    "# voting_clf.fit(X_train.drop(['mouthSmileLeft',\t'mouthSmileRight',\t'mouthStretchLeft',\n",
    "#              'mouthStretchRight',\t'mouthUpperUpLeft',\t'mouthUpperUpRight'],axis=1).values, y_train)"
   ]
  },
  {
   "cell_type": "code",
   "execution_count": 64,
   "metadata": {},
   "outputs": [
    {
     "data": {
      "text/plain": [
       "0.93125"
      ]
     },
     "execution_count": 64,
     "metadata": {},
     "output_type": "execute_result"
    }
   ],
   "source": [
    "# voting_clf.score(X_test.drop(['mouthSmileLeft',\t'mouthSmileRight',\t'mouthStretchLeft',\n",
    "#              'mouthStretchRight',\t'mouthUpperUpLeft',\t'mouthUpperUpRight'], axis=1).values,y_test)"
   ]
  },
  {
   "cell_type": "code",
   "execution_count": 48,
   "metadata": {},
   "outputs": [
    {
     "name": "stdout",
     "output_type": "stream",
     "text": [
      "lr = 0.890625\n",
      "rf = 0.965625\n",
      "svc = 0.953125\n"
     ]
    },
    {
     "name": "stderr",
     "output_type": "stream",
     "text": [
      "c:\\Users\\lenovo\\AppData\\Local\\Programs\\Python\\Python311\\Lib\\site-packages\\sklearn\\base.py:432: UserWarning: X has feature names, but LogisticRegression was fitted without feature names\n",
      "  warnings.warn(\n",
      "c:\\Users\\lenovo\\AppData\\Local\\Programs\\Python\\Python311\\Lib\\site-packages\\sklearn\\base.py:432: UserWarning: X has feature names, but RandomForestClassifier was fitted without feature names\n",
      "  warnings.warn(\n",
      "c:\\Users\\lenovo\\AppData\\Local\\Programs\\Python\\Python311\\Lib\\site-packages\\sklearn\\base.py:432: UserWarning: X has feature names, but SVC was fitted without feature names\n",
      "  warnings.warn(\n"
     ]
    }
   ],
   "source": [
    "# for name, clf in voting_clf.named_estimators_.items():\n",
    "#     print(name, \"=\", clf.score(X_test, y_test))"
   ]
  },
  {
   "cell_type": "code",
   "execution_count": 69,
   "metadata": {},
   "outputs": [
    {
     "data": {
      "text/plain": [
       "0.953125"
      ]
     },
     "execution_count": 69,
     "metadata": {},
     "output_type": "execute_result"
    }
   ],
   "source": [
    "# voting_clf.voting = \"soft\"\n",
    "# voting_clf.named_estimators[\"svc\"].probability = True\n",
    "# voting_clf.fit(X_train.drop(['mouthSmileLeft',\t'mouthSmileRight',\t'mouthStretchLeft',\n",
    "#                              'mouthStretchRight',\t'mouthUpperUpLeft',\t'mouthUpperUpRight'], axis=1).values, y_train)\n",
    "# voting_clf.score(X_test.drop(['mouthSmileLeft',\t'mouthSmileRight',\t'mouthStretchLeft',\n",
    "#                              'mouthStretchRight',\t'mouthUpperUpLeft',\t'mouthUpperUpRight'], axis=1).values, y_test)"
   ]
  },
  {
   "cell_type": "code",
   "execution_count": 25,
   "metadata": {},
   "outputs": [
    {
     "name": "stdout",
     "output_type": "stream",
     "text": [
      "0.04 browDownLeft\n",
      "0.02 browDownRight\n",
      "0.02 browInnerUp\n",
      "0.02 browOuterUpLeft\n",
      "0.03 browOuterUpRight\n",
      "0.03 eyeBlinkLeft\n",
      "0.04 eyeBlinkRight\n",
      "0.03 eyeLookDownLeft\n",
      "0.04 eyeLookDownRight\n",
      "0.01 eyeLookInLeft\n",
      "0.01 eyeLookInRight\n",
      "0.02 eyeLookOutLeft\n",
      "0.02 eyeLookOutRight\n",
      "0.02 eyeLookUpLeft\n",
      "0.02 eyeLookUpRight\n",
      "0.03 eyeSquintLeft\n",
      "0.01 eyeSquintRight\n",
      "0.04 eyeWideLeft\n",
      "0.05 eyeWideRight\n",
      "0.02 jawOpen\n",
      "0.14 mouthSmileLeft\n",
      "0.04 mouthSmileRight\n",
      "0.04 mouthStretchLeft\n",
      "0.02 mouthStretchRight\n",
      "0.18 mouthUpperUpLeft\n",
      "0.08 mouthUpperUpRight\n"
     ]
    }
   ],
   "source": [
    "# for score, name in zip(rnd_forest.feature_importances_, rnd_forest.feature_names_in_):\n",
    "#     print(round(score, 2), name)"
   ]
  },
  {
   "cell_type": "code",
   "execution_count": 70,
   "metadata": {},
   "outputs": [
    {
     "ename": "ValueError",
     "evalue": "X has 26 features, but RandomForestClassifier is expecting 20 features as input.",
     "output_type": "error",
     "traceback": [
      "\u001b[1;31m---------------------------------------------------------------------------\u001b[0m",
      "\u001b[1;31mValueError\u001b[0m                                Traceback (most recent call last)",
      "Cell \u001b[1;32mIn[70], line 1\u001b[0m\n\u001b[1;32m----> 1\u001b[0m \u001b[43mvoting_clf\u001b[49m\u001b[38;5;241;43m.\u001b[39;49m\u001b[43mpredict_proba\u001b[49m\u001b[43m(\u001b[49m\u001b[43m[\u001b[49m\u001b[43mneeded_scores\u001b[49m\u001b[43m]\u001b[49m\u001b[43m)\u001b[49m\n",
      "File \u001b[1;32mc:\\Users\\lenovo\\AppData\\Local\\Programs\\Python\\Python311\\Lib\\site-packages\\sklearn\\ensemble\\_voting.py:404\u001b[0m, in \u001b[0;36mVotingClassifier.predict_proba\u001b[1;34m(self, X)\u001b[0m\n\u001b[0;32m    390\u001b[0m \u001b[38;5;250m\u001b[39m\u001b[38;5;124;03m\"\"\"Compute probabilities of possible outcomes for samples in X.\u001b[39;00m\n\u001b[0;32m    391\u001b[0m \n\u001b[0;32m    392\u001b[0m \u001b[38;5;124;03mParameters\u001b[39;00m\n\u001b[1;32m   (...)\u001b[0m\n\u001b[0;32m    400\u001b[0m \u001b[38;5;124;03m    Weighted average probability for each class per sample.\u001b[39;00m\n\u001b[0;32m    401\u001b[0m \u001b[38;5;124;03m\"\"\"\u001b[39;00m\n\u001b[0;32m    402\u001b[0m check_is_fitted(\u001b[38;5;28mself\u001b[39m)\n\u001b[0;32m    403\u001b[0m avg \u001b[38;5;241m=\u001b[39m np\u001b[38;5;241m.\u001b[39maverage(\n\u001b[1;32m--> 404\u001b[0m     \u001b[38;5;28;43mself\u001b[39;49m\u001b[38;5;241;43m.\u001b[39;49m\u001b[43m_collect_probas\u001b[49m\u001b[43m(\u001b[49m\u001b[43mX\u001b[49m\u001b[43m)\u001b[49m, axis\u001b[38;5;241m=\u001b[39m\u001b[38;5;241m0\u001b[39m, weights\u001b[38;5;241m=\u001b[39m\u001b[38;5;28mself\u001b[39m\u001b[38;5;241m.\u001b[39m_weights_not_none\n\u001b[0;32m    405\u001b[0m )\n\u001b[0;32m    406\u001b[0m \u001b[38;5;28;01mreturn\u001b[39;00m avg\n",
      "File \u001b[1;32mc:\\Users\\lenovo\\AppData\\Local\\Programs\\Python\\Python311\\Lib\\site-packages\\sklearn\\ensemble\\_voting.py:379\u001b[0m, in \u001b[0;36mVotingClassifier._collect_probas\u001b[1;34m(self, X)\u001b[0m\n\u001b[0;32m    377\u001b[0m \u001b[38;5;28;01mdef\u001b[39;00m \u001b[38;5;21m_collect_probas\u001b[39m(\u001b[38;5;28mself\u001b[39m, X):\n\u001b[0;32m    378\u001b[0m \u001b[38;5;250m    \u001b[39m\u001b[38;5;124;03m\"\"\"Collect results from clf.predict calls.\"\"\"\u001b[39;00m\n\u001b[1;32m--> 379\u001b[0m     \u001b[38;5;28;01mreturn\u001b[39;00m np\u001b[38;5;241m.\u001b[39masarray(\u001b[43m[\u001b[49m\u001b[43mclf\u001b[49m\u001b[38;5;241;43m.\u001b[39;49m\u001b[43mpredict_proba\u001b[49m\u001b[43m(\u001b[49m\u001b[43mX\u001b[49m\u001b[43m)\u001b[49m\u001b[43m \u001b[49m\u001b[38;5;28;43;01mfor\u001b[39;49;00m\u001b[43m \u001b[49m\u001b[43mclf\u001b[49m\u001b[43m \u001b[49m\u001b[38;5;129;43;01min\u001b[39;49;00m\u001b[43m \u001b[49m\u001b[38;5;28;43mself\u001b[39;49m\u001b[38;5;241;43m.\u001b[39;49m\u001b[43mestimators_\u001b[49m\u001b[43m]\u001b[49m)\n",
      "File \u001b[1;32mc:\\Users\\lenovo\\AppData\\Local\\Programs\\Python\\Python311\\Lib\\site-packages\\sklearn\\ensemble\\_voting.py:379\u001b[0m, in \u001b[0;36m<listcomp>\u001b[1;34m(.0)\u001b[0m\n\u001b[0;32m    377\u001b[0m \u001b[38;5;28;01mdef\u001b[39;00m \u001b[38;5;21m_collect_probas\u001b[39m(\u001b[38;5;28mself\u001b[39m, X):\n\u001b[0;32m    378\u001b[0m \u001b[38;5;250m    \u001b[39m\u001b[38;5;124;03m\"\"\"Collect results from clf.predict calls.\"\"\"\u001b[39;00m\n\u001b[1;32m--> 379\u001b[0m     \u001b[38;5;28;01mreturn\u001b[39;00m np\u001b[38;5;241m.\u001b[39masarray([\u001b[43mclf\u001b[49m\u001b[38;5;241;43m.\u001b[39;49m\u001b[43mpredict_proba\u001b[49m\u001b[43m(\u001b[49m\u001b[43mX\u001b[49m\u001b[43m)\u001b[49m \u001b[38;5;28;01mfor\u001b[39;00m clf \u001b[38;5;129;01min\u001b[39;00m \u001b[38;5;28mself\u001b[39m\u001b[38;5;241m.\u001b[39mestimators_])\n",
      "File \u001b[1;32mc:\\Users\\lenovo\\AppData\\Local\\Programs\\Python\\Python311\\Lib\\site-packages\\sklearn\\ensemble\\_forest.py:862\u001b[0m, in \u001b[0;36mForestClassifier.predict_proba\u001b[1;34m(self, X)\u001b[0m\n\u001b[0;32m    860\u001b[0m check_is_fitted(\u001b[38;5;28mself\u001b[39m)\n\u001b[0;32m    861\u001b[0m \u001b[38;5;66;03m# Check data\u001b[39;00m\n\u001b[1;32m--> 862\u001b[0m X \u001b[38;5;241m=\u001b[39m \u001b[38;5;28;43mself\u001b[39;49m\u001b[38;5;241;43m.\u001b[39;49m\u001b[43m_validate_X_predict\u001b[49m\u001b[43m(\u001b[49m\u001b[43mX\u001b[49m\u001b[43m)\u001b[49m\n\u001b[0;32m    864\u001b[0m \u001b[38;5;66;03m# Assign chunk of trees to jobs\u001b[39;00m\n\u001b[0;32m    865\u001b[0m n_jobs, _, _ \u001b[38;5;241m=\u001b[39m _partition_estimators(\u001b[38;5;28mself\u001b[39m\u001b[38;5;241m.\u001b[39mn_estimators, \u001b[38;5;28mself\u001b[39m\u001b[38;5;241m.\u001b[39mn_jobs)\n",
      "File \u001b[1;32mc:\\Users\\lenovo\\AppData\\Local\\Programs\\Python\\Python311\\Lib\\site-packages\\sklearn\\ensemble\\_forest.py:602\u001b[0m, in \u001b[0;36mBaseForest._validate_X_predict\u001b[1;34m(self, X)\u001b[0m\n\u001b[0;32m    599\u001b[0m \u001b[38;5;250m\u001b[39m\u001b[38;5;124;03m\"\"\"\u001b[39;00m\n\u001b[0;32m    600\u001b[0m \u001b[38;5;124;03mValidate X whenever one tries to predict, apply, predict_proba.\"\"\"\u001b[39;00m\n\u001b[0;32m    601\u001b[0m check_is_fitted(\u001b[38;5;28mself\u001b[39m)\n\u001b[1;32m--> 602\u001b[0m X \u001b[38;5;241m=\u001b[39m \u001b[38;5;28;43mself\u001b[39;49m\u001b[38;5;241;43m.\u001b[39;49m\u001b[43m_validate_data\u001b[49m\u001b[43m(\u001b[49m\u001b[43mX\u001b[49m\u001b[43m,\u001b[49m\u001b[43m \u001b[49m\u001b[43mdtype\u001b[49m\u001b[38;5;241;43m=\u001b[39;49m\u001b[43mDTYPE\u001b[49m\u001b[43m,\u001b[49m\u001b[43m \u001b[49m\u001b[43maccept_sparse\u001b[49m\u001b[38;5;241;43m=\u001b[39;49m\u001b[38;5;124;43m\"\u001b[39;49m\u001b[38;5;124;43mcsr\u001b[39;49m\u001b[38;5;124;43m\"\u001b[39;49m\u001b[43m,\u001b[49m\u001b[43m \u001b[49m\u001b[43mreset\u001b[49m\u001b[38;5;241;43m=\u001b[39;49m\u001b[38;5;28;43;01mFalse\u001b[39;49;00m\u001b[43m)\u001b[49m\n\u001b[0;32m    603\u001b[0m \u001b[38;5;28;01mif\u001b[39;00m issparse(X) \u001b[38;5;129;01mand\u001b[39;00m (X\u001b[38;5;241m.\u001b[39mindices\u001b[38;5;241m.\u001b[39mdtype \u001b[38;5;241m!=\u001b[39m np\u001b[38;5;241m.\u001b[39mintc \u001b[38;5;129;01mor\u001b[39;00m X\u001b[38;5;241m.\u001b[39mindptr\u001b[38;5;241m.\u001b[39mdtype \u001b[38;5;241m!=\u001b[39m np\u001b[38;5;241m.\u001b[39mintc):\n\u001b[0;32m    604\u001b[0m     \u001b[38;5;28;01mraise\u001b[39;00m \u001b[38;5;167;01mValueError\u001b[39;00m(\u001b[38;5;124m\"\u001b[39m\u001b[38;5;124mNo support for np.int64 index based sparse matrices\u001b[39m\u001b[38;5;124m\"\u001b[39m)\n",
      "File \u001b[1;32mc:\\Users\\lenovo\\AppData\\Local\\Programs\\Python\\Python311\\Lib\\site-packages\\sklearn\\base.py:588\u001b[0m, in \u001b[0;36mBaseEstimator._validate_data\u001b[1;34m(self, X, y, reset, validate_separately, **check_params)\u001b[0m\n\u001b[0;32m    585\u001b[0m     out \u001b[38;5;241m=\u001b[39m X, y\n\u001b[0;32m    587\u001b[0m \u001b[38;5;28;01mif\u001b[39;00m \u001b[38;5;129;01mnot\u001b[39;00m no_val_X \u001b[38;5;129;01mand\u001b[39;00m check_params\u001b[38;5;241m.\u001b[39mget(\u001b[38;5;124m\"\u001b[39m\u001b[38;5;124mensure_2d\u001b[39m\u001b[38;5;124m\"\u001b[39m, \u001b[38;5;28;01mTrue\u001b[39;00m):\n\u001b[1;32m--> 588\u001b[0m     \u001b[38;5;28;43mself\u001b[39;49m\u001b[38;5;241;43m.\u001b[39;49m\u001b[43m_check_n_features\u001b[49m\u001b[43m(\u001b[49m\u001b[43mX\u001b[49m\u001b[43m,\u001b[49m\u001b[43m \u001b[49m\u001b[43mreset\u001b[49m\u001b[38;5;241;43m=\u001b[39;49m\u001b[43mreset\u001b[49m\u001b[43m)\u001b[49m\n\u001b[0;32m    590\u001b[0m \u001b[38;5;28;01mreturn\u001b[39;00m out\n",
      "File \u001b[1;32mc:\\Users\\lenovo\\AppData\\Local\\Programs\\Python\\Python311\\Lib\\site-packages\\sklearn\\base.py:389\u001b[0m, in \u001b[0;36mBaseEstimator._check_n_features\u001b[1;34m(self, X, reset)\u001b[0m\n\u001b[0;32m    386\u001b[0m     \u001b[38;5;28;01mreturn\u001b[39;00m\n\u001b[0;32m    388\u001b[0m \u001b[38;5;28;01mif\u001b[39;00m n_features \u001b[38;5;241m!=\u001b[39m \u001b[38;5;28mself\u001b[39m\u001b[38;5;241m.\u001b[39mn_features_in_:\n\u001b[1;32m--> 389\u001b[0m     \u001b[38;5;28;01mraise\u001b[39;00m \u001b[38;5;167;01mValueError\u001b[39;00m(\n\u001b[0;32m    390\u001b[0m         \u001b[38;5;124mf\u001b[39m\u001b[38;5;124m\"\u001b[39m\u001b[38;5;124mX has \u001b[39m\u001b[38;5;132;01m{\u001b[39;00mn_features\u001b[38;5;132;01m}\u001b[39;00m\u001b[38;5;124m features, but \u001b[39m\u001b[38;5;132;01m{\u001b[39;00m\u001b[38;5;28mself\u001b[39m\u001b[38;5;241m.\u001b[39m\u001b[38;5;18m__class__\u001b[39m\u001b[38;5;241m.\u001b[39m\u001b[38;5;18m__name__\u001b[39m\u001b[38;5;132;01m}\u001b[39;00m\u001b[38;5;124m \u001b[39m\u001b[38;5;124m\"\u001b[39m\n\u001b[0;32m    391\u001b[0m         \u001b[38;5;124mf\u001b[39m\u001b[38;5;124m\"\u001b[39m\u001b[38;5;124mis expecting \u001b[39m\u001b[38;5;132;01m{\u001b[39;00m\u001b[38;5;28mself\u001b[39m\u001b[38;5;241m.\u001b[39mn_features_in_\u001b[38;5;132;01m}\u001b[39;00m\u001b[38;5;124m features as input.\u001b[39m\u001b[38;5;124m\"\u001b[39m\n\u001b[0;32m    392\u001b[0m     )\n",
      "\u001b[1;31mValueError\u001b[0m: X has 26 features, but RandomForestClassifier is expecting 20 features as input."
     ]
    }
   ],
   "source": [
    "# voting_clf.predict_proba([needed_scores])"
   ]
  },
  {
   "cell_type": "code",
   "execution_count": 2,
   "metadata": {},
   "outputs": [],
   "source": [
    "# import pickle\n",
    "\n",
    "\n",
    "# pickle.dump(voting_clf, open(\"voting_clf.pkl\", \"wb\"))"
   ]
  },
  {
   "cell_type": "code",
   "execution_count": 3,
   "metadata": {},
   "outputs": [],
   "source": [
    "# models = {\n",
    "#     1: pickle.load(open(\n",
    "#         \"D:\\GitHub Repos\\Face-Emotion-Vision\\playingWithFaceRecognition\\KNN_final.pkl\", \"rb\")),\n",
    "#     2: pickle.load(open(\n",
    "#         \"D:\\GitHub Repos\\Face-Emotion-Vision\\playingWithFaceRecognition\\KNN_hog.pkl\", \"rb\")),\n",
    "#     3: pickle.load(open(\n",
    "#         \"D:\\GitHub Repos\\Face-Emotion-Vision\\playingWithFaceRecognition\\KNN_lbp.pkl\", \"rb\")),\n",
    "#     4: pickle.load(open(\n",
    "#         \"D:\\GitHub Repos\\Face-Emotion-Vision\\playingWithFaceRecognition\\\\rnd_final.pkl\", \"rb\")),\n",
    "#     5: pickle.load(open(\n",
    "#         \"D:\\GitHub Repos\\Face-Emotion-Vision\\playingWithFaceRecognition\\\\rnd_hog.pkl\", \"rb\")),\n",
    "#     6: pickle.load(open(\n",
    "#         \"D:\\GitHub Repos\\Face-Emotion-Vision\\playingWithFaceRecognition\\\\rnd_lbp.pkl\", \"rb\")),\n",
    "#     7: pickle.load(open(\n",
    "#         \"D:\\GitHub Repos\\Face-Emotion-Vision\\playingWithFaceRecognition\\SVM_final.pkl\", \"rb\")),\n",
    "#     8: pickle.load(open(\n",
    "#         \"D:\\GitHub Repos\\Face-Emotion-Vision\\playingWithFaceRecognition\\SVM_hog.pkl\", \"rb\")),\n",
    "#     9: pickle.load(open(\n",
    "#         \"D:\\GitHub Repos\\Face-Emotion-Vision\\playingWithFaceRecognition\\SVM_lbp.pkl\", \"rb\")),\n",
    "#     10: pickle.load(open(\n",
    "#         \"D:\\GitHub Repos\\Face-Emotion-Vision\\playingWithFaceRecognition\\\\voting_clf_hard_final.pkl\", \"rb\")),\n",
    "#     11: pickle.load(open(\n",
    "#         \"D:\\GitHub Repos\\Face-Emotion-Vision\\playingWithFaceRecognition\\\\voting_clf_hard_hog.pkl\", \"rb\")),\n",
    "#     12: pickle.load(open(\n",
    "#         \"D:\\GitHub Repos\\Face-Emotion-Vision\\playingWithFaceRecognition\\\\voting_clf_hard_lbp.pkl\", \"rb\")),\n",
    "#     13: pickle.load(open(\n",
    "#         \"D:\\GitHub Repos\\Face-Emotion-Vision\\playingWithFaceRecognition\\\\voting_clf_soft_final.pkl\", \"rb\")),\n",
    "#     14: pickle.load(open(\n",
    "#         \"D:\\GitHub Repos\\Face-Emotion-Vision\\playingWithFaceRecognition\\\\voting_clf_soft_hog.pkl\", \"rb\")),\n",
    "#     15: pickle.load(open(\n",
    "#         \"D:\\GitHub Repos\\Face-Emotion-Vision\\playingWithFaceRecognition\\\\voting_clf_soft_lbp.pkl\", \"rb\")),\n",
    "# }"
   ]
  },
  {
   "cell_type": "code",
   "execution_count": 6,
   "metadata": {},
   "outputs": [
    {
     "data": {
      "text/plain": [
       "<function dict.values>"
      ]
     },
     "execution_count": 6,
     "metadata": {},
     "output_type": "execute_result"
    }
   ],
   "source": [
    "# models[1]"
   ]
  },
  {
   "cell_type": "code",
   "execution_count": null,
   "metadata": {},
   "outputs": [],
   "source": []
  }
 ],
 "metadata": {
  "kernelspec": {
   "display_name": "Python 3",
   "language": "python",
   "name": "python3"
  },
  "language_info": {
   "codemirror_mode": {
    "name": "ipython",
    "version": 3
   },
   "file_extension": ".py",
   "mimetype": "text/x-python",
   "name": "python",
   "nbconvert_exporter": "python",
   "pygments_lexer": "ipython3",
   "version": "3.11.4"
  }
 },
 "nbformat": 4,
 "nbformat_minor": 2
}
